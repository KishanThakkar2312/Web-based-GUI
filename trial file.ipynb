{
 "cells": [
  {
   "cell_type": "code",
   "execution_count": null,
   "id": "42146218",
   "metadata": {},
   "outputs": [],
   "source": [
    "import dash\n",
    "import dash_html_components as html\n",
    "import dash_core_components as dcc\n",
    "from dash.dependencies import Input, Output\n",
    "app = dash.Dash()\n",
    "app.layout = html.Div([\n",
    "html.H1(id='live-update-text'),\n",
    "dcc.Interval(\n",
    "id='interval-component',\n",
    "interval=2000, # 2000 milliseconds = 2 seconds\n",
    "n_intervals=0\n",
    ")\n",
    "])\n",
    "@app.callback(Output('live-update-text', 'children'),\n",
    "[Input('interval-component', 'n_intervals')])\n",
    "\n",
    "def update_layout(n):\n",
    "    return 'Crash free for {} refreshes'.format(n)\n",
    "if __name__ == '__main__':\n",
    "    app.run_server()\n"
   ]
  },
  {
   "cell_type": "code",
   "execution_count": null,
   "id": "695a6412",
   "metadata": {},
   "outputs": [],
   "source": []
  }
 ],
 "metadata": {
  "kernelspec": {
   "display_name": "Python 3 (ipykernel)",
   "language": "python",
   "name": "python3"
  },
  "language_info": {
   "codemirror_mode": {
    "name": "ipython",
    "version": 3
   },
   "file_extension": ".py",
   "mimetype": "text/x-python",
   "name": "python",
   "nbconvert_exporter": "python",
   "pygments_lexer": "ipython3",
   "version": "3.8.8"
  }
 },
 "nbformat": 4,
 "nbformat_minor": 5
}
